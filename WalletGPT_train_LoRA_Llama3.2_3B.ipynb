{
 "cells": [
  {
   "cell_type": "markdown",
   "metadata": {},
   "source": [
    "# Preparing the Data"
   ]
  },
  {
   "cell_type": "code",
   "execution_count": 1,
   "metadata": {},
   "outputs": [
    {
     "name": "stdout",
     "output_type": "stream",
     "text": [
      "Requirement already satisfied: datasets in c:\\users\\aalpu\\programming\\miniconda3\\envs\\llms\\lib\\site-packages (3.0.2)\n",
      "Requirement already satisfied: transformers in c:\\users\\aalpu\\programming\\miniconda3\\envs\\llms\\lib\\site-packages (4.46.0)\n",
      "Requirement already satisfied: torch in c:\\users\\aalpu\\programming\\miniconda3\\envs\\llms\\lib\\site-packages (2.5.0)\n",
      "Requirement already satisfied: tqdm in c:\\users\\aalpu\\programming\\miniconda3\\envs\\llms\\lib\\site-packages (4.66.5)\n",
      "Requirement already satisfied: pandas in c:\\users\\aalpu\\programming\\miniconda3\\envs\\llms\\lib\\site-packages (2.2.3)\n",
      "Requirement already satisfied: huggingface_hub in c:\\users\\aalpu\\programming\\miniconda3\\envs\\llms\\lib\\site-packages (0.26.1)\n",
      "Requirement already satisfied: filelock in c:\\users\\aalpu\\programming\\miniconda3\\envs\\llms\\lib\\site-packages (from datasets) (3.16.1)\n",
      "Requirement already satisfied: numpy>=1.17 in c:\\users\\aalpu\\programming\\miniconda3\\envs\\llms\\lib\\site-packages (from datasets) (2.0.2)\n",
      "Requirement already satisfied: pyarrow>=15.0.0 in c:\\users\\aalpu\\programming\\miniconda3\\envs\\llms\\lib\\site-packages (from datasets) (18.0.0)\n",
      "Requirement already satisfied: dill<0.3.9,>=0.3.0 in c:\\users\\aalpu\\programming\\miniconda3\\envs\\llms\\lib\\site-packages (from datasets) (0.3.8)\n",
      "Requirement already satisfied: requests>=2.32.2 in c:\\users\\aalpu\\programming\\miniconda3\\envs\\llms\\lib\\site-packages (from datasets) (2.32.3)\n",
      "Requirement already satisfied: xxhash in c:\\users\\aalpu\\programming\\miniconda3\\envs\\llms\\lib\\site-packages (from datasets) (3.5.0)\n",
      "Requirement already satisfied: multiprocess<0.70.17 in c:\\users\\aalpu\\programming\\miniconda3\\envs\\llms\\lib\\site-packages (from datasets) (0.70.16)\n",
      "Requirement already satisfied: fsspec<=2024.9.0,>=2023.1.0 in c:\\users\\aalpu\\programming\\miniconda3\\envs\\llms\\lib\\site-packages (from fsspec[http]<=2024.9.0,>=2023.1.0->datasets) (2024.9.0)\n",
      "Requirement already satisfied: aiohttp in c:\\users\\aalpu\\programming\\miniconda3\\envs\\llms\\lib\\site-packages (from datasets) (3.10.10)\n",
      "Requirement already satisfied: packaging in c:\\users\\aalpu\\programming\\miniconda3\\envs\\llms\\lib\\site-packages (from datasets) (24.1)\n",
      "Requirement already satisfied: pyyaml>=5.1 in c:\\users\\aalpu\\programming\\miniconda3\\envs\\llms\\lib\\site-packages (from datasets) (6.0.2)\n",
      "Requirement already satisfied: regex!=2019.12.17 in c:\\users\\aalpu\\programming\\miniconda3\\envs\\llms\\lib\\site-packages (from transformers) (2024.9.11)\n",
      "Requirement already satisfied: safetensors>=0.4.1 in c:\\users\\aalpu\\programming\\miniconda3\\envs\\llms\\lib\\site-packages (from transformers) (0.4.5)\n",
      "Requirement already satisfied: tokenizers<0.21,>=0.20 in c:\\users\\aalpu\\programming\\miniconda3\\envs\\llms\\lib\\site-packages (from transformers) (0.20.1)\n",
      "Requirement already satisfied: typing-extensions>=4.8.0 in c:\\users\\aalpu\\programming\\miniconda3\\envs\\llms\\lib\\site-packages (from torch) (4.12.2)\n",
      "Requirement already satisfied: networkx in c:\\users\\aalpu\\programming\\miniconda3\\envs\\llms\\lib\\site-packages (from torch) (3.2.1)\n",
      "Requirement already satisfied: jinja2 in c:\\users\\aalpu\\programming\\miniconda3\\envs\\llms\\lib\\site-packages (from torch) (3.1.4)\n",
      "Requirement already satisfied: sympy==1.13.1 in c:\\users\\aalpu\\programming\\miniconda3\\envs\\llms\\lib\\site-packages (from torch) (1.13.1)\n",
      "Requirement already satisfied: mpmath<1.4,>=1.1.0 in c:\\users\\aalpu\\programming\\miniconda3\\envs\\llms\\lib\\site-packages (from sympy==1.13.1->torch) (1.3.0)\n",
      "Requirement already satisfied: colorama in c:\\users\\aalpu\\programming\\miniconda3\\envs\\llms\\lib\\site-packages (from tqdm) (0.4.6)\n",
      "Requirement already satisfied: python-dateutil>=2.8.2 in c:\\users\\aalpu\\programming\\miniconda3\\envs\\llms\\lib\\site-packages (from pandas) (2.9.0.post0)\n",
      "Requirement already satisfied: pytz>=2020.1 in c:\\users\\aalpu\\programming\\miniconda3\\envs\\llms\\lib\\site-packages (from pandas) (2024.2)\n",
      "Requirement already satisfied: tzdata>=2022.7 in c:\\users\\aalpu\\programming\\miniconda3\\envs\\llms\\lib\\site-packages (from pandas) (2024.2)\n",
      "Requirement already satisfied: aiohappyeyeballs>=2.3.0 in c:\\users\\aalpu\\programming\\miniconda3\\envs\\llms\\lib\\site-packages (from aiohttp->datasets) (2.4.3)\n",
      "Requirement already satisfied: aiosignal>=1.1.2 in c:\\users\\aalpu\\programming\\miniconda3\\envs\\llms\\lib\\site-packages (from aiohttp->datasets) (1.3.1)\n",
      "Requirement already satisfied: attrs>=17.3.0 in c:\\users\\aalpu\\programming\\miniconda3\\envs\\llms\\lib\\site-packages (from aiohttp->datasets) (24.2.0)\n",
      "Requirement already satisfied: frozenlist>=1.1.1 in c:\\users\\aalpu\\programming\\miniconda3\\envs\\llms\\lib\\site-packages (from aiohttp->datasets) (1.5.0)\n",
      "Requirement already satisfied: multidict<7.0,>=4.5 in c:\\users\\aalpu\\programming\\miniconda3\\envs\\llms\\lib\\site-packages (from aiohttp->datasets) (6.1.0)\n",
      "Requirement already satisfied: yarl<2.0,>=1.12.0 in c:\\users\\aalpu\\programming\\miniconda3\\envs\\llms\\lib\\site-packages (from aiohttp->datasets) (1.17.0)\n",
      "Requirement already satisfied: async-timeout<5.0,>=4.0 in c:\\users\\aalpu\\programming\\miniconda3\\envs\\llms\\lib\\site-packages (from aiohttp->datasets) (4.0.3)\n",
      "Requirement already satisfied: six>=1.5 in c:\\users\\aalpu\\programming\\miniconda3\\envs\\llms\\lib\\site-packages (from python-dateutil>=2.8.2->pandas) (1.16.0)\n",
      "Requirement already satisfied: charset-normalizer<4,>=2 in c:\\users\\aalpu\\programming\\miniconda3\\envs\\llms\\lib\\site-packages (from requests>=2.32.2->datasets) (3.4.0)\n",
      "Requirement already satisfied: idna<4,>=2.5 in c:\\users\\aalpu\\programming\\miniconda3\\envs\\llms\\lib\\site-packages (from requests>=2.32.2->datasets) (3.10)\n",
      "Requirement already satisfied: urllib3<3,>=1.21.1 in c:\\users\\aalpu\\programming\\miniconda3\\envs\\llms\\lib\\site-packages (from requests>=2.32.2->datasets) (2.2.3)\n",
      "Requirement already satisfied: certifi>=2017.4.17 in c:\\users\\aalpu\\programming\\miniconda3\\envs\\llms\\lib\\site-packages (from requests>=2.32.2->datasets) (2024.8.30)\n",
      "Requirement already satisfied: MarkupSafe>=2.0 in c:\\users\\aalpu\\programming\\miniconda3\\envs\\llms\\lib\\site-packages (from jinja2->torch) (3.0.2)\n",
      "Requirement already satisfied: propcache>=0.2.0 in c:\\users\\aalpu\\programming\\miniconda3\\envs\\llms\\lib\\site-packages (from yarl<2.0,>=1.12.0->aiohttp->datasets) (0.2.0)\n",
      "Collecting sentencepiece\n",
      "  Downloading sentencepiece-0.2.0-cp39-cp39-win_amd64.whl.metadata (8.3 kB)\n",
      "Downloading sentencepiece-0.2.0-cp39-cp39-win_amd64.whl (991 kB)\n",
      "   ---------------------------------------- 0.0/991.5 kB ? eta -:--:--\n",
      "   ------------------------------- -------- 786.4/991.5 kB 6.6 MB/s eta 0:00:01\n",
      "   ---------------------------------------- 991.5/991.5 kB 5.8 MB/s eta 0:00:00\n",
      "Installing collected packages: sentencepiece\n",
      "Successfully installed sentencepiece-0.2.0\n"
     ]
    }
   ],
   "source": [
    "!pip install datasets transformers torch tqdm pandas huggingface_hub\n",
    "!pip install sentencepiece\n",
    "!pip install protobuf transformers==4.30.2 cpm_kernels torch>=2.0 gradio mdtex2html sentencepiece accelerate"
   ]
  },
  {
   "cell_type": "markdown",
   "metadata": {},
   "source": [
    "# Dataset"
   ]
  },
  {
   "cell_type": "code",
   "execution_count": 9,
   "metadata": {},
   "outputs": [
    {
     "data": {
      "text/plain": [
       "Dataset({\n",
       "    features: ['input', 'output', 'instruction'],\n",
       "    num_rows: 17110\n",
       "})"
      ]
     },
     "execution_count": 9,
     "metadata": {},
     "output_type": "execute_result"
    }
   ],
   "source": [
    "from datasets import load_dataset\n",
    "import datasets\n",
    "import pyarrow.parquet as pa\n",
    "import pandas as pd\n",
    "\n",
    "QA = pd.read_parquet('QA_FinData.parquet')\n",
    "# print(QA)\n",
    "QA = datasets.Dataset.from_pandas(QA)\n",
    "QA\n",
    "\n",
    "\n"
   ]
  },
  {
   "cell_type": "code",
   "execution_count": null,
   "metadata": {},
   "outputs": [],
   "source": [
    "import jsonfrom\n",
    "from tqdm.notebook import tqdm\n",
    "\n",
    "data_list = []\n",
    "\n",
    "for item in QA.itertuples():\n",
    "    tmp = {}\n",
    "    tmp[\"instruction\"] = item.instruction\n",
    "    tmp[\"input\"] = item.input\n",
    "    tmp[\"output\"] = item.output\n",
    "    data_list.append(tmp)"
   ]
  }
 ],
 "metadata": {
  "kernelspec": {
   "display_name": "LLMs",
   "language": "python",
   "name": "python3"
  },
  "language_info": {
   "codemirror_mode": {
    "name": "ipython",
    "version": 3
   },
   "file_extension": ".py",
   "mimetype": "text/x-python",
   "name": "python",
   "nbconvert_exporter": "python",
   "pygments_lexer": "ipython3",
   "version": "3.9.20"
  }
 },
 "nbformat": 4,
 "nbformat_minor": 2
}
